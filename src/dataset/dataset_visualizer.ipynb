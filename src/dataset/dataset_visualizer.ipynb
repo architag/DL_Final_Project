{
 "cells": [
  {
   "cell_type": "markdown",
   "metadata": {},
   "source": [
    "# Trajectory Dataset\n",
    "\n",
    "In this project, we will be training a recurrent JEPA model to learn the trajectory. The trajector is provided by the following dataset.\n",
    "\n",
    "## Environment\n",
    "The setup consits of three parts: Walls, Agent and Actions.\n",
    "- `Agent`: It is the point/region in space that moves in the space in a particular trajectory.\n",
    "- `Walls`: These are confinement borders in the space. The agent cannot pass through the walls.\n",
    "- `Action`: It gives us delta x and delta y from previous locations.\n",
    "\n",
    "## Dataset Format.\n",
    "We have two files: `states.npy` and `actions.npy`. They both are np array, which describes the environment and agent.\n",
    "`states`: It has the shape (num_traj, traj_length, 2, 65, 65). It has two channels. \n",
    "- Channel 1: (i, n, 1, 65, 65) that describes the agent.\n",
    "- Channel 2: (i, n, 0, 65, 65) that describes the borders and walls. \n",
    "`actions`: It has the shape (num_traj, traj_length-1, 2)"
   ]
  },
  {
   "cell_type": "code",
   "execution_count": 265,
   "metadata": {},
   "outputs": [],
   "source": [
    "import numpy as np\n",
    "import matplotlib.pyplot as plt\n",
    "import random"
   ]
  },
  {
   "cell_type": "code",
   "execution_count": 3,
   "metadata": {},
   "outputs": [
    {
     "name": "stdout",
     "output_type": "stream",
     "text": [
      "shape of states: (15000, 17, 2, 65, 65)\n",
      "shape of actions: (15000, 16, 2)\n"
     ]
    }
   ],
   "source": [
    "states = np.load(\"states.npy\", mmap_mode=\"r\")\n",
    "actions = np.load(\"actions.npy\", mmap_mode=\"r\")\n",
    "\n",
    "print(f\"shape of states: {states.shape}\")\n",
    "print(f\"shape of actions: {actions.shape}\")"
   ]
  },
  {
   "cell_type": "markdown",
   "metadata": {},
   "source": [
    "## Visualizing trajectory.\n",
    "Let us visualize the first trajectory. The all the visulaization in dark mode is native one. If you want light mode it will have some processing done. We will be using dark mode.\n",
    "\n",
    "`TODO` : We have to confirm if the borders or walls do not move with time.\n",
    "\n",
    "### How are we visualizing it.\n",
    "There are three aspects to it. Enviromenment, Agent positions and Trajectory from actions.\n",
    "\n",
    "- First, we will initialize all the data points of image to environment values i.e states[id][0][1].\n",
    "- Second, we will modifying data points with agent position and color it `red` for all the trajectory points (i.e states[id][trj_id][id])\n",
    "- Third, we will do two things. First: will compute exact position of agent (from image, by compuitng pixel location with highest value), this will form agent trajectory path (`blue` color). Second: will follow the pixel from initial agent position and adding delta_x and delta_y from actions, this will form action trajectory path (`red` color).\n",
    "\n",
    "There are differences in agent trajectory and action trajectory (as pixel index is integer, but delta is in float), But they more or less point to the same location.\n",
    "\n",
    "The function to use is `visualize_data_point`. It takes in three arguments:\n",
    "- `index`: Integer, the visualize the state[index] dataset.\n",
    "- `light_mode`: Boolean, if you want light mode give `True`.\n",
    "- `mode`: Integer [0, 1, 2, 3, 4]. 0 just draws the environment and agent positions, mode 1 draws agent movement as pixels, mode 2 draws agent trajectory, mode 3 draws action trajectory and mode 4 draws everything."
   ]
  },
  {
   "cell_type": "code",
   "execution_count": 292,
   "metadata": {},
   "outputs": [],
   "source": [
    "# helper functions\n",
    "# draws the borders on the image\n",
    "def draw_borders(rgb_image, env, is_white_mode = False):\n",
    "    if is_white_mode == True:\n",
    "        rgb_image = np.ones(rgb_image.shape)\n",
    "        rgb_image[:, :, 0] -= env \n",
    "        rgb_image[:, :, 1] -= env \n",
    "        rgb_image[:, :, 2] -= env\n",
    "    else:\n",
    "        rgb_image = np.zeros(rgb_image.shape)\n",
    "        rgb_image[:, :, 0] = env \n",
    "        rgb_image[:, :, 1] = env \n",
    "        rgb_image[:, :, 2] = env\n",
    "    return rgb_image\n",
    "\n",
    "# function that finds the position of agent (max pixel value)\n",
    "def find_agent_position(agent):\n",
    "    max_index = (-1, -1)\n",
    "    max_value = 0.0\n",
    "    for i in range(65):\n",
    "        for j in range(65):\n",
    "            if agent[i][j] > max_value:\n",
    "                max_value = agent[i][j]\n",
    "                max_index = (i, j)\n",
    "    return max_index\n",
    "\n",
    "# draws the agent on the image\n",
    "def draw_agent(rgb_image, agent, is_white_mode = False):\n",
    "    if is_white_mode:\n",
    "        rgb_image[:, :, 0] -= agent\n",
    "    else:\n",
    "        rgb_image[:, :, 0] += agent \n",
    "\n",
    "    return rgb_image\n",
    "\n",
    "# draws the image\n",
    "def draw_image(rgb_image):\n",
    "    rgb_image = np.clip(rgb_image, 0, 1)\n",
    "    plt.imshow(rgb_image)\n",
    "    plt.axis('off')\n",
    "    plt.show()"
   ]
  },
  {
   "cell_type": "code",
   "execution_count": 293,
   "metadata": {},
   "outputs": [],
   "source": [
    "# Draws the image with trajectories and action\n",
    "# Assuming the borders do not change with time\n",
    "# There are three modes\n",
    "# mode 0 - draws just the image\n",
    "# mode 1 - draws image with agent trajectory (i.e based on states.npy)\n",
    "# mode 2 - draws image with action trajectory (i.e baed on actions.npy)\n",
    "# mode 3 - does (both mode 1 and mode 2)\n",
    "def draw_traj_image(rgb_image, agent_traj, action_traj, light_mode = False, mode = 0):\n",
    "    rgb_image = np.clip(rgb_image, 0, 1)\n",
    "    plt.imshow(rgb_image)\n",
    "    if mode == 2 or mode == 4:\n",
    "        plt.plot(agent_traj[:, 1], agent_traj[:, 0], color='blue', linewidth=1)\n",
    "        plt.scatter(agent_traj[:, 1], agent_traj[:, 0], color='blue', s=5, zorder=5)\n",
    "\n",
    "    if mode == 3 or mode == 4:\n",
    "        plt.plot(action_traj[:, 1], action_traj[:, 0], color='green', linewidth=1)\n",
    "        plt.scatter(action_traj[:, 1], action_traj[:, 0], color='green', s=5, zorder=5)\n",
    "\n",
    "    if mode > 0:\n",
    "        color = 'red' if light_mode else 'yellow'\n",
    "        plt.text(agent_traj[0][1], agent_traj[0][0], 'S', fontsize=6, color=color)\n",
    "        plt.text(agent_traj[-1][1], agent_traj[-1][0], 'D', fontsize=6, color=color)\n",
    "    plt.axis('off')\n",
    "    plt.show()"
   ]
  },
  {
   "cell_type": "code",
   "execution_count": 294,
   "metadata": {},
   "outputs": [],
   "source": [
    "\n",
    "def visualize_data_point(index = 0, light_mode = False, mode = 0):\n",
    "    rgb_image = np.empty((65, 65, 3))\n",
    "    rgb_image = draw_borders(rgb_image, states[index][0][1], light_mode)\n",
    "\n",
    "    length = states[index].shape[0]\n",
    "    agent_trajectory = np.zeros((length, 2))\n",
    "    action_trajectory = np.zeros((length, 2))\n",
    "\n",
    "    curr_pos = find_agent_position(states[index][0][0])\n",
    "    agent_trajectory[0][0], agent_trajectory[0][1] = curr_pos[0], curr_pos[1]\n",
    "    action_trajectory[0][0], action_trajectory[0][1] = curr_pos[0], curr_pos[1]\n",
    "\n",
    "    for i in range(length):\n",
    "        if i == 0 or mode == 1 or mode == 4:\n",
    "            rgb_image = draw_agent(rgb_image, states[index][i][0], light_mode)\n",
    "        if i > 0:\n",
    "            curr_pos = find_agent_position(states[index][i][0])\n",
    "            agent_trajectory[i][0], agent_trajectory[i][1] = curr_pos[0], curr_pos[1]\n",
    "            action_trajectory[i][0] = action_trajectory[i-1][0] + actions[index][i-1][1]\n",
    "            action_trajectory[i][1] = action_trajectory[i-1][1] + actions[index][i-1][0]\n",
    "\n",
    "    print(f\"final_position: {curr_pos}\")\n",
    "    print(f\"action position: {action_trajectory[length-1]}\")\n",
    "\n",
    "    draw_traj_image(rgb_image, agent_trajectory, action_trajectory, light_mode, mode)\n"
   ]
  },
  {
   "cell_type": "markdown",
   "metadata": {},
   "source": [
    "Given below is the visualization of the first data point and its trajectories.\n",
    "Next will we randomly samply, 5 data points and visualize it using mode 4."
   ]
  },
  {
   "cell_type": "code",
   "execution_count": 295,
   "metadata": {},
   "outputs": [
    {
     "name": "stdout",
     "output_type": "stream",
     "text": [
      "final_position: (20, 26)\n",
      "action position: [19.77844795 26.05357924]\n"
     ]
    },
    {
     "data": {
      "image/png": "[encoded data removed]",
      "text/plain": [
       "<Figure size 640x480 with 1 Axes>"
      ]
     },
     "metadata": {},
     "output_type": "display_data"
    },
    {
     "name": "stdout",
     "output_type": "stream",
     "text": [
      "final_position: (20, 26)\n",
      "action position: [19.77844795 26.05357924]\n"
     ]
    },
    {
     "data": {
      "image/png": "[encoded data removed]",
      "text/plain": [
       "<Figure size 640x480 with 1 Axes>"
      ]
     },
     "metadata": {},
     "output_type": "display_data"
    },
    {
     "name": "stdout",
     "output_type": "stream",
     "text": [
      "final_position: (20, 26)\n",
      "action position: [19.77844795 26.05357924]\n"
     ]
    },
    {
     "data": {
      "image/png": "[encoded data removed]",
      "text/plain": [
       "<Figure size 640x480 with 1 Axes>"
      ]
     },
     "metadata": {},
     "output_type": "display_data"
    },
    {
     "name": "stdout",
     "output_type": "stream",
     "text": [
      "final_position: (20, 26)\n",
      "action position: [19.77844795 26.05357924]\n"
     ]
    },
    {
     "data": {
      "image/png": "[encoded data removed]",
      "text/plain": [
       "<Figure size 640x480 with 1 Axes>"
      ]
     },
     "metadata": {},
     "output_type": "display_data"
    },
    {
     "name": "stdout",
     "output_type": "stream",
     "text": [
      "final_position: (20, 26)\n",
      "action position: [19.77844795 26.05357924]\n"
     ]
    },
    {
     "data": {
      "image/png": "[encoded data removed]",
      "text/plain": [
       "<Figure size 640x480 with 1 Axes>"
      ]
     },
     "metadata": {},
     "output_type": "display_data"
    },
    {
     "name": "stdout",
     "output_type": "stream",
     "text": [
      "final_position: (20, 26)\n",
      "action position: [19.77844795 26.05357924]\n"
     ]
    },
    {
     "data": {
      "image/png": "[encoded data removed]",
      "text/plain": [
       "<Figure size 640x480 with 1 Axes>"
      ]
     },
     "metadata": {},
     "output_type": "display_data"
    }
   ],
   "source": [
    "visualize_data_point(0, False, 0)\n",
    "visualize_data_point(0, False, 1)\n",
    "visualize_data_point(0, False, 2)\n",
    "visualize_data_point(0, False, 3)\n",
    "visualize_data_point(0, False, 4)\n",
    "visualize_data_point(0, True, 4)"
   ]
  },
  {
   "cell_type": "code",
   "execution_count": 296,
   "metadata": {},
   "outputs": [
    {
     "name": "stdout",
     "output_type": "stream",
     "text": [
      "final_position: (29, 9)\n",
      "action position: [29.42932115  8.94496699]\n"
     ]
    },
    {
     "data": {
      "image/png": "[encoded data removed]",
      "text/plain": [
       "<Figure size 640x480 with 1 Axes>"
      ]
     },
     "metadata": {},
     "output_type": "display_data"
    },
    {
     "name": "stdout",
     "output_type": "stream",
     "text": [
      "final_position: (43, 7)\n",
      "action position: [39.6377429   3.86433353]\n"
     ]
    },
    {
     "data": {
      "image/png": "[encoded data removed]",
      "text/plain": [
       "<Figure size 640x480 with 1 Axes>"
      ]
     },
     "metadata": {},
     "output_type": "display_data"
    },
    {
     "name": "stdout",
     "output_type": "stream",
     "text": [
      "final_position: (20, 11)\n",
      "action position: [20.60207945 10.38176517]\n"
     ]
    },
    {
     "data": {
      "image/png": "[encoded data removed]",
      "text/plain": [
       "<Figure size 640x480 with 1 Axes>"
      ]
     },
     "metadata": {},
     "output_type": "display_data"
    },
    {
     "name": "stdout",
     "output_type": "stream",
     "text": [
      "final_position: (15, 11)\n",
      "action position: [15.27480914 10.93911893]\n"
     ]
    },
    {
     "data": {
      "image/png": "[encoded data removed]",
      "text/plain": [
       "<Figure size 640x480 with 1 Axes>"
      ]
     },
     "metadata": {},
     "output_type": "display_data"
    },
    {
     "name": "stdout",
     "output_type": "stream",
     "text": [
      "final_position: (60, 37)\n",
      "action position: [69.59796205 37.45270539]\n"
     ]
    },
    {
     "data": {
      "image/png": "[encoded data removed]",
      "text/plain": [
       "<Figure size 640x480 with 1 Axes>"
      ]
     },
     "metadata": {},
     "output_type": "display_data"
    }
   ],
   "source": [
    "N = states.shape[0]\n",
    "random_data_points = random.sample(range(N), 5)\n",
    "for i in random_data_points:\n",
    "    visualize_data_point(i, False, 4)"
   ]
  }
 ],
 "metadata": {
  "kernelspec": {
   "display_name": "ml",
   "language": "python",
   "name": "python3"
  },
  "language_info": {
   "codemirror_mode": {
    "name": "ipython",
    "version": 3
   },
   "file_extension": ".py",
   "mimetype": "text/x-python",
   "name": "python",
   "nbconvert_exporter": "python",
   "pygments_lexer": "ipython3",
   "version": "3.12.7"
  }
 },
 "nbformat": 4,
 "nbformat_minor": 2
}
